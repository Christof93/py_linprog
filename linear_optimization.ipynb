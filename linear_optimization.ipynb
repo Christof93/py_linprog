{
 "cells": [
  {
   "cell_type": "markdown",
   "metadata": {},
   "source": [
    "## Linear optimization in Python"
   ]
  },
  {
   "cell_type": "markdown",
   "metadata": {},
   "source": [
    "There are a number of packages in python to perform linear optimization with. Since Scipy is quite commonly used nowadays, this tutorial introduces **scipy.optimize** with a little example."
   ]
  },
  {
   "cell_type": "code",
   "execution_count": 48,
   "metadata": {
    "collapsed": true
   },
   "outputs": [],
   "source": [
    "import numpy as np\n",
    "import pandas as pd\n",
    "%matplotlib inline\n",
    "import matplotlib.pyplot as plt"
   ]
  },
  {
   "cell_type": "code",
   "execution_count": 49,
   "metadata": {
    "collapsed": true
   },
   "outputs": [],
   "source": [
    "from scipy.optimize import minimize"
   ]
  },
  {
   "cell_type": "markdown",
   "metadata": {},
   "source": [
    "Let's create a simple usage scenario. Say we have a csv file with different articles that have some attributes like price, volume and weight. It is our goal to store a combination of these articles in a warehouse. There are some constraints like the maximum capacity of the warehouse and weight limits. The model also has some upper bounds in the form of maximum number of available articles.\n",
    "\n",
    "The objective function will be to maximize the value of articles in the warehouse."
   ]
  },
  {
   "cell_type": "code",
   "execution_count": 50,
   "metadata": {
    "collapsed": false
   },
   "outputs": [],
   "source": [
    "df = pd.read_csv('stats.csv')"
   ]
  },
  {
   "cell_type": "code",
   "execution_count": 51,
   "metadata": {
    "collapsed": false
   },
   "outputs": [
    {
     "data": {
      "text/html": [
       "<div>\n",
       "<table border=\"1\" class=\"dataframe\">\n",
       "  <thead>\n",
       "    <tr style=\"text-align: right;\">\n",
       "      <th></th>\n",
       "      <th>article_id</th>\n",
       "      <th>weight</th>\n",
       "      <th>price</th>\n",
       "      <th>importance</th>\n",
       "      <th>length</th>\n",
       "      <th>width</th>\n",
       "      <th>depth</th>\n",
       "      <th>volume</th>\n",
       "      <th>quantity</th>\n",
       "    </tr>\n",
       "  </thead>\n",
       "  <tbody>\n",
       "    <tr>\n",
       "      <th>0</th>\n",
       "      <td>art_01</td>\n",
       "      <td>1.5</td>\n",
       "      <td>9.99</td>\n",
       "      <td>5</td>\n",
       "      <td>13</td>\n",
       "      <td>5</td>\n",
       "      <td>10</td>\n",
       "      <td>650</td>\n",
       "      <td>1000</td>\n",
       "    </tr>\n",
       "    <tr>\n",
       "      <th>1</th>\n",
       "      <td>art_02</td>\n",
       "      <td>100.0</td>\n",
       "      <td>965.99</td>\n",
       "      <td>2</td>\n",
       "      <td>100</td>\n",
       "      <td>20</td>\n",
       "      <td>10</td>\n",
       "      <td>20000</td>\n",
       "      <td>250</td>\n",
       "    </tr>\n",
       "    <tr>\n",
       "      <th>2</th>\n",
       "      <td>art_03</td>\n",
       "      <td>19.0</td>\n",
       "      <td>6.50</td>\n",
       "      <td>9</td>\n",
       "      <td>20</td>\n",
       "      <td>22</td>\n",
       "      <td>10</td>\n",
       "      <td>4400</td>\n",
       "      <td>2000</td>\n",
       "    </tr>\n",
       "  </tbody>\n",
       "</table>\n",
       "</div>"
      ],
      "text/plain": [
       "  article_id  weight   price  importance  length  width  depth  volume  \\\n",
       "0     art_01     1.5    9.99           5      13      5     10     650   \n",
       "1     art_02   100.0  965.99           2     100     20     10   20000   \n",
       "2     art_03    19.0    6.50           9      20     22     10    4400   \n",
       "\n",
       "   quantity  \n",
       "0      1000  \n",
       "1       250  \n",
       "2      2000  "
      ]
     },
     "execution_count": 51,
     "metadata": {},
     "output_type": "execute_result"
    }
   ],
   "source": [
    "df"
   ]
  },
  {
   "cell_type": "code",
   "execution_count": 52,
   "metadata": {
    "collapsed": false
   },
   "outputs": [
    {
     "data": {
      "text/plain": [
       "0      1.5\n",
       "1    100.0\n",
       "2     19.0\n",
       "Name: weight, dtype: float64"
      ]
     },
     "execution_count": 52,
     "metadata": {},
     "output_type": "execute_result"
    }
   ],
   "source": [
    "df[\"weight\"]"
   ]
  },
  {
   "cell_type": "markdown",
   "metadata": {},
   "source": [
    "##### the objective function:\n",
    "\\begin{equation*}\n",
    "max V(x,y,z)=t_{2,1}*x+t_{2,2}*y+t_{2,3}*z\n",
    "\\end{equation*}\n",
    "\n",
    "\n",
    "##### constraints:\n",
    "\\begin{equation*}\n",
    "t_{7,1}*x+t_{7,2}*y+t_{7,3}*z <= 1000000\n",
    "\\end{equation*}\n",
    "\\begin{equation*}\n",
    "t_{3,1}*x+t_{3,2}*y+t_{3,3}*z >= 200\n",
    "\\end{equation*}\n",
    "\\begin{equation*}\n",
    "t_{1,1}*x+t_{1,2}*y+t_{1,3}*z <= 10000\n",
    "\\end{equation*}\n",
    "\n",
    "###### bounds\n",
    "\\begin{equation*}\n",
    "0<= x <= t_{8,1}\n",
    "\\end{equation*}\n",
    "\\begin{equation*}\n",
    "0<= y <= t_{8,2}\n",
    "\\end{equation*}\n",
    "\\begin{equation*}\n",
    "0<= z <= t_{8,3}\n",
    "\\end{equation*}\n"
   ]
  },
  {
   "cell_type": "code",
   "execution_count": 53,
   "metadata": {
    "collapsed": true
   },
   "outputs": [],
   "source": [
    "def objective_function(x, sign=1.0):\n",
    "    return_val=0\n",
    "    for i,val in enumerate(x):\n",
    "        return_val+=val*df[\"price\"][i]\n",
    "    return return_val * sign"
   ]
  },
  {
   "cell_type": "code",
   "execution_count": 58,
   "metadata": {
    "collapsed": false
   },
   "outputs": [],
   "source": [
    "class general_constraint:\n",
    "    def __init__(constraint_type,max_val,compare_type):\n",
    "        self.cont\n",
    "    \n",
    "    def _const_function(x)\n",
    "        return_val=0\n",
    "        for i,val in enumerate(x):\n",
    "            return_val+=val*df[self.constraint_type][i]\n",
    "        return return_val - self.max_val\n",
    "    \n",
    "    def form_constraint"
   ]
  },
  {
   "cell_type": "code",
   "execution_count": 55,
   "metadata": {
    "collapsed": false
   },
   "outputs": [],
   "source": [
    "def constraint1(x):\n",
    "    return x[0]*df[\"volume\"][0]+x[1]*df[\"volume\"][1]+x[2]*df[\"volume\"][2] - 1000000 \n",
    "def constraint2(x):\n",
    "    return x[0]*df[\"importance\"][0]+x[1]*df[\"importance\"][1]+x[2]*df[\"importance\"][2] + 200\n",
    "def constraint3(x):\n",
    "    return x[0]*df[\"weight\"][0]+x[1]*df[\"weight\"][1]+x[2]*df[\"weight\"][2] - 10000\n",
    "\n",
    "cons=[{\"type\":\"ineq\",\"fun\":constraint1},{\"type\":\"ineq\",\"fun\":constraint2},{\"type\":\"ineq\",\"fun\":constraint3}]"
   ]
  },
  {
   "cell_type": "code",
   "execution_count": 56,
   "metadata": {
    "collapsed": true
   },
   "outputs": [],
   "source": [
    "bnds=((0,df[\"quantity\"][0]),(0,df[\"quantity\"][1]),(0,df[\"quantity\"][2]))"
   ]
  },
  {
   "cell_type": "code",
   "execution_count": 57,
   "metadata": {
    "collapsed": false
   },
   "outputs": [
    {
     "data": {
      "text/plain": [
       "     fun: 3421.0526318973293\n",
       "     jac: array([   9.98999023,  965.98999023,    6.5       ,    0.        ])\n",
       " message: 'Optimization terminated successfully.'\n",
       "    nfev: 25\n",
       "     nit: 5\n",
       "    njev: 5\n",
       "  status: 0\n",
       " success: True\n",
       "       x: array([   0.        ,    0.        ,  526.31578952])"
      ]
     },
     "execution_count": 57,
     "metadata": {},
     "output_type": "execute_result"
    }
   ],
   "source": [
    "minimize(objective_function,[1.0,1.0,1.0],constraints=cons,bounds=bnds,method=\"SLSQP\")"
   ]
  },
  {
   "cell_type": "code",
   "execution_count": null,
   "metadata": {
    "collapsed": true
   },
   "outputs": [],
   "source": []
  }
 ],
 "metadata": {
  "kernelspec": {
   "display_name": "Python 2",
   "language": "python",
   "name": "python2"
  },
  "language_info": {
   "codemirror_mode": {
    "name": "ipython",
    "version": 2
   },
   "file_extension": ".py",
   "mimetype": "text/x-python",
   "name": "python",
   "nbconvert_exporter": "python",
   "pygments_lexer": "ipython2",
   "version": "2.7.13"
  }
 },
 "nbformat": 4,
 "nbformat_minor": 0
}
